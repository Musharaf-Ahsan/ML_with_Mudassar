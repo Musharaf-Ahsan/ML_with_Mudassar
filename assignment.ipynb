{
 "cells": [
  {
   "attachments": {},
   "cell_type": "markdown",
   "metadata": {},
   "source": [
    "# **Problem No.1**"
   ]
  },
  {
   "attachments": {},
   "cell_type": "markdown",
   "metadata": {},
   "source": [
    "**Write a program to find the largest, smallest and average of n whole numbers.**\\\n",
    "**You can assume that \"n\" has already been set by the user.**"
   ]
  },
  {
   "cell_type": "code",
   "execution_count": 2,
   "metadata": {},
   "outputs": [
    {
     "name": "stdout",
     "output_type": "stream",
     "text": [
      "Largest number: 36\n",
      "Smallest number: 2\n",
      "Average of the numbers: 14.0\n"
     ]
    }
   ],
   "source": [
    "# Setting Value of n\n",
    "n = int(input(\"Enter the value of n: \"))\n",
    "numbers = []\n",
    "\n",
    "# Input n numbers\n",
    "for i in range(n):\n",
    "    num = int(input(\"Enter a number: \"))\n",
    "    numbers.append(num)\n",
    "\n",
    "# Calculate largest, smallest, and average\n",
    "largest = max(numbers)\n",
    "smallest = min(numbers)\n",
    "average = sum(numbers) / n\n",
    "\n",
    "# Print the results\n",
    "print(\"Largest number:\", largest)\n",
    "print(\"Smallest number:\", smallest)\n",
    "print(\"Average of the numbers:\", average)\n"
   ]
  },
  {
   "attachments": {},
   "cell_type": "markdown",
   "metadata": {},
   "source": [
    "# **Problem No.2**"
   ]
  },
  {
   "attachments": {},
   "cell_type": "markdown",
   "metadata": {},
   "source": [
    "**Write a program that will ask the user a question with four possible answers.**\\\n",
    "**The question should be asked 20 times. After all the input is gathered, the**\\\n",
    "**program should output the number of times each answer was selected.**"
   ]
  },
  {
   "cell_type": "code",
   "execution_count": 4,
   "metadata": {},
   "outputs": [
    {
     "name": "stdout",
     "output_type": "stream",
     "text": [
      "\n",
      "Question 1:\n",
      "What is your answer?\n",
      "A. Option A\n",
      "B. Option B\n",
      "C. Option C\n",
      "D. Option D\n",
      "\n",
      "Question 2:\n",
      "What is your answer?\n",
      "A. Option A\n",
      "B. Option B\n",
      "C. Option C\n",
      "D. Option D\n",
      "\n",
      "Question 3:\n",
      "What is your answer?\n",
      "A. Option A\n",
      "B. Option B\n",
      "C. Option C\n",
      "D. Option D\n",
      "\n",
      "Question 4:\n",
      "What is your answer?\n",
      "A. Option A\n",
      "B. Option B\n",
      "C. Option C\n",
      "D. Option D\n",
      "\n",
      "Question 5:\n",
      "What is your answer?\n",
      "A. Option A\n",
      "B. Option B\n",
      "C. Option C\n",
      "D. Option D\n",
      "\n",
      "Question 6:\n",
      "What is your answer?\n",
      "A. Option A\n",
      "B. Option B\n",
      "C. Option C\n",
      "D. Option D\n",
      "\n",
      "Question 7:\n",
      "What is your answer?\n",
      "A. Option A\n",
      "B. Option B\n",
      "C. Option C\n",
      "D. Option D\n",
      "\n",
      "Question 8:\n",
      "What is your answer?\n",
      "A. Option A\n",
      "B. Option B\n",
      "C. Option C\n",
      "D. Option D\n",
      "\n",
      "Question 9:\n",
      "What is your answer?\n",
      "A. Option A\n",
      "B. Option B\n",
      "C. Option C\n",
      "D. Option D\n",
      "\n",
      "Question 10:\n",
      "What is your answer?\n",
      "A. Option A\n",
      "B. Option B\n",
      "C. Option C\n",
      "D. Option D\n",
      "\n",
      "Question 11:\n",
      "What is your answer?\n",
      "A. Option A\n",
      "B. Option B\n",
      "C. Option C\n",
      "D. Option D\n",
      "\n",
      "Question 12:\n",
      "What is your answer?\n",
      "A. Option A\n",
      "B. Option B\n",
      "C. Option C\n",
      "D. Option D\n",
      "\n",
      "Question 13:\n",
      "What is your answer?\n",
      "A. Option A\n",
      "B. Option B\n",
      "C. Option C\n",
      "D. Option D\n",
      "\n",
      "Question 14:\n",
      "What is your answer?\n",
      "A. Option A\n",
      "B. Option B\n",
      "C. Option C\n",
      "D. Option D\n",
      "\n",
      "Question 15:\n",
      "What is your answer?\n",
      "A. Option A\n",
      "B. Option B\n",
      "C. Option C\n",
      "D. Option D\n",
      "\n",
      "Question 16:\n",
      "What is your answer?\n",
      "A. Option A\n",
      "B. Option B\n",
      "C. Option C\n",
      "D. Option D\n",
      "\n",
      "Question 17:\n",
      "What is your answer?\n",
      "A. Option A\n",
      "B. Option B\n",
      "C. Option C\n",
      "D. Option D\n",
      "\n",
      "Question 18:\n",
      "What is your answer?\n",
      "A. Option A\n",
      "B. Option B\n",
      "C. Option C\n",
      "D. Option D\n",
      "\n",
      "Question 19:\n",
      "What is your answer?\n",
      "A. Option A\n",
      "B. Option B\n",
      "C. Option C\n",
      "D. Option D\n",
      "\n",
      "Question 20:\n",
      "What is your answer?\n",
      "A. Option A\n",
      "B. Option B\n",
      "C. Option C\n",
      "D. Option D\n",
      "\n",
      "Answer counts:\n",
      "A: 3\n",
      "B: 5\n",
      "C: 6\n",
      "D: 6\n"
     ]
    }
   ],
   "source": [
    "# Initialize answer counters\n",
    "answer_counts = {\n",
    "    'A': 0,\n",
    "    'B': 0,\n",
    "    'C': 0,\n",
    "    'D': 0\n",
    "}\n",
    "\n",
    "# Ask the question 20 times\n",
    "for i in range(20):\n",
    "    print(f\"\\nQuestion {i+1}:\")\n",
    "    print(\"What is your answer?\")\n",
    "    print(\"A. Option A\")\n",
    "    print(\"B. Option B\")\n",
    "    print(\"C. Option C\")\n",
    "    print(\"D. Option D\")\n",
    "\n",
    "    answer = input(\"Enter your answer (A, B, C, or D): \")\n",
    "\n",
    "    # Validate the answer\n",
    "    while answer not in ['A', 'B', 'C', 'D']:\n",
    "        print(\"Invalid answer. Please try again.\")\n",
    "        answer = input(\"Enter your answer (A, B, C, or D): \")\n",
    "\n",
    "    # Increment the counter for the selected answer\n",
    "    answer_counts[answer] += 1\n",
    "\n",
    "# Print the answer counts\n",
    "print(\"\\nAnswer counts:\")\n",
    "for answer, count in answer_counts.items():\n",
    "    print(f\"{answer}: {count}\")\n"
   ]
  },
  {
   "attachments": {},
   "cell_type": "markdown",
   "metadata": {},
   "source": [
    "# **Problem No.3**\n",
    "**Write a program that inputs a series of 20 numbers and displays the minimum value.**"
   ]
  },
  {
   "cell_type": "code",
   "execution_count": 5,
   "metadata": {},
   "outputs": [
    {
     "name": "stdout",
     "output_type": "stream",
     "text": [
      "Minimum value: 2.0\n"
     ]
    }
   ],
   "source": [
    "numbers = []\n",
    "\n",
    "# Input 20 numbers\n",
    "for i in range(20):\n",
    "    num = float(input(f\"Enter number {i+1}: \"))\n",
    "    numbers.append(num)\n",
    "\n",
    "# Find the minimum value\n",
    "minimum = min(numbers)\n",
    "\n",
    "# Display the minimum value\n",
    "print(\"Minimum value:\", minimum)\n"
   ]
  },
  {
   "attachments": {},
   "cell_type": "markdown",
   "metadata": {},
   "source": [
    "# **Problem No.4**\n",
    "**Write a program that inputs a number from the user and displays Fibonacci series**\n",
    "**up to the number entered.**"
   ]
  },
  {
   "cell_type": "code",
   "execution_count": 6,
   "metadata": {},
   "outputs": [
    {
     "name": "stdout",
     "output_type": "stream",
     "text": [
      "Fibonacci series up to 5 :\n",
      "[0, 1, 1, 2, 3, 5]\n"
     ]
    }
   ],
   "source": [
    "def fibonacci_series(n):\n",
    "    series = [0, 1]  # Starting values of the Fibonacci series\n",
    "\n",
    "    # Generate Fibonacci series up to n\n",
    "    while series[-1] <= n:\n",
    "        next_num = series[-1] + series[-2]\n",
    "        if next_num <= n:\n",
    "            series.append(next_num)\n",
    "        else:\n",
    "            break\n",
    "\n",
    "    return series\n",
    "\n",
    "# Input a number from the user\n",
    "number = int(input(\"Enter a number: \"))\n",
    "\n",
    "# Display the Fibonacci series up to the entered number\n",
    "fib_series = fibonacci_series(number)\n",
    "print(\"Fibonacci series up to\", number, \":\")\n",
    "print(fib_series)\n"
   ]
  },
  {
   "attachments": {},
   "cell_type": "markdown",
   "metadata": {},
   "source": [
    "# **Problem No.5**\n",
    "**Program to display all Armstrong numbers up to a given number**"
   ]
  },
  {
   "cell_type": "code",
   "execution_count": 11,
   "metadata": {},
   "outputs": [
    {
     "name": "stdout",
     "output_type": "stream",
     "text": [
      "Perfect numbers up to 50 :\n",
      "6\n",
      "28\n"
     ]
    }
   ],
   "source": [
    "def is_perfect_number(num):\n",
    "    # Find the factors of num (excluding num itself)\n",
    "    factors = [i for i in range(1, num) if num % i == 0]\n",
    "\n",
    "    # Check if the sum of factors is equal to num\n",
    "    return sum(factors) == num\n",
    "\n",
    "# Input a number from the user\n",
    "number = int(input(\"Enter a number: \"))\n",
    "\n",
    "# Display all perfect numbers up to the entered number\n",
    "print(\"Perfect numbers up to\", number, \":\")\n",
    "for i in range(1, number + 1):\n",
    "    if is_perfect_number(i):\n",
    "        print(i)\n"
   ]
  }
 ],
 "metadata": {
  "kernelspec": {
   "display_name": "pandas_env",
   "language": "python",
   "name": "python3"
  },
  "language_info": {
   "codemirror_mode": {
    "name": "ipython",
    "version": 3
   },
   "file_extension": ".py",
   "mimetype": "text/x-python",
   "name": "python",
   "nbconvert_exporter": "python",
   "pygments_lexer": "ipython3",
   "version": "3.10.4"
  },
  "orig_nbformat": 4
 },
 "nbformat": 4,
 "nbformat_minor": 2
}
