{
 "cells": [
  {
   "attachments": {},
   "cell_type": "markdown",
   "id": "faf308b2",
   "metadata": {},
   "source": [
    "<span style=\"font-size: 24px; font-weight: bold; color: navy\">Machine Learning with Rana Mudassar Hayat</span>\n",
    "\n",
    "<span style=\"font-size: 20px; font-weight: bold; color: navy\">Assignment No: 1</span>\n",
    "\n",
    "<span style=\"font-size: 20px; font-weight: bold; color: navy\">Name: Musharaf Ahsan</span>\n",
    "\n",
    "<span style=\"font-size: 20px; font-weight: bold; color: navy\">Basics of Python</span>\n",
    "\n",
    "---"
   ]
  },
  {
   "cell_type": "code",
   "execution_count": 1,
   "id": "f853edec",
   "metadata": {},
   "outputs": [
    {
     "name": "stdout",
     "output_type": "stream",
     "text": [
      "Learning ML with Rana Mudassar Sb\n",
      "I'm a student of Cholistan University of veterinary and Animal Sciences Bahawalpur\n"
     ]
    }
   ],
   "source": [
    "print(\"Learning ML with Rana Mudassar Sb\")\n",
    "print(\"I'm a student of Cholistan University of veterinary and Animal Sciences Bahawalpur\")\n"
   ]
  },
  {
   "attachments": {},
   "cell_type": "markdown",
   "id": "a39c03bf",
   "metadata": {},
   "source": [
    "## **02- Operators**"
   ]
  },
  {
   "cell_type": "code",
   "execution_count": 4,
   "id": "90974edb",
   "metadata": {},
   "outputs": [
    {
     "name": "stdout",
     "output_type": "stream",
     "text": [
      "The sum of the two numbers is:  178\n",
      "The result of subtraction is:  46\n",
      "The product of the numbers is:  624\n",
      "The result of division is:  45.0\n",
      "The result of integer division is:  16\n",
      "The result of exponentiation is:  8\n",
      "The remainder of the division is:  1\n",
      "The result of the equation is:  151\n"
     ]
    }
   ],
   "source": [
    "print(\"The sum of the two numbers is: \", 90 + 88)            # Addition\n",
    "print(\"The result of subtraction is: \", 89 - 43)            # Subtraction\n",
    "print(\"The product of the numbers is: \", 8 * 78)             # Multiplication\n",
    "print(\"The result of division is: \", 90 / 2)             # Division\n",
    "print(\"The result of integer division is: \", 64 // 4)            # Double Division\n",
    "print(\"The result of exponentiation is: \", 2 ** 3)             # Power\n",
    "print(\"The remainder of the division is: \", 9 % 2)              # Reminder\n",
    "print(\"The result of the equation is: \", 68 // 4 * 9 + 8 - 10)     # Equation"
   ]
  },
  {
   "attachments": {},
   "cell_type": "markdown",
   "id": "b1f96d80",
   "metadata": {},
   "source": [
    "**PEMDAS\n",
    "Parenthesis, Exponents, multiply, Divide, Addition & Substraction**\n",
    "\n",
    "**Left to right sequence for M D & A S**"
   ]
  },
  {
   "attachments": {},
   "cell_type": "markdown",
   "id": "d058dfd7",
   "metadata": {},
   "source": [
    "## **03- Strings**"
   ]
  },
  {
   "attachments": {},
   "cell_type": "markdown",
   "id": "b0a65e6b",
   "metadata": {},
   "source": [
    "*we can write string in single qoutes(' '), in double qoiutes(\" \") and In tripple qoutes('''  ''')*"
   ]
  },
  {
   "cell_type": "code",
   "execution_count": 5,
   "id": "b8440264",
   "metadata": {},
   "outputs": [
    {
     "name": "stdout",
     "output_type": "stream",
     "text": [
      "Single Qoutes\n",
      "Double Qoutes\n",
      "Triple Qoutes\n"
     ]
    }
   ],
   "source": [
    "print('Single Qoutes')\n",
    "print(\"Double Qoutes\")\n",
    "print('''Triple Qoutes''')"
   ]
  },
  {
   "attachments": {},
   "cell_type": "markdown",
   "id": "d2e6be39",
   "metadata": {},
   "source": [
    "*now what is the difference*"
   ]
  },
  {
   "cell_type": "code",
   "execution_count": 6,
   "id": "1f63896d",
   "metadata": {},
   "outputs": [
    {
     "name": "stdout",
     "output_type": "stream",
     "text": [
      "What's up\n"
     ]
    }
   ],
   "source": [
    "print(\"What's up\")"
   ]
  },
  {
   "attachments": {},
   "cell_type": "markdown",
   "id": "352610fe",
   "metadata": {},
   "source": [
    "*agr hm ise single qoutes me likhain gy to ye consider nhi kre ga*"
   ]
  },
  {
   "attachments": {},
   "cell_type": "markdown",
   "id": "127482a7",
   "metadata": {},
   "source": [
    "## **04- Variables**\n",
    "*variables: objects containing specific values.*"
   ]
  },
  {
   "cell_type": "code",
   "execution_count": 8,
   "id": "5c98cbea",
   "metadata": {},
   "outputs": [
    {
     "name": "stdout",
     "output_type": "stream",
     "text": [
      "10\n",
      "I'm Pakistani!\n",
      "40\n",
      "50\n",
      "?\n"
     ]
    }
   ],
   "source": [
    "x=10    #Numeric or Integer Variable\n",
    "print(x)\n",
    "\n",
    "y=\"I'm Pakistani!\"    #string variable\n",
    "print(y)\n",
    "x=40   #Here the valuae of x is updating by 40.It works same for 'y'..Only happen in Python not in C/C++\n",
    "print(x)\n",
    "x=x+10      #Another way to update value of x....\n",
    "print(x)\n",
    "z='?'\n",
    "print(z)"
   ]
  },
  {
   "attachments": {},
   "cell_type": "markdown",
   "id": "47389ba1",
   "metadata": {},
   "source": [
    "##### **Types/Class of Variables.**\n",
    "##### **A Function to Check Types of Variables.**\n"
   ]
  },
  {
   "cell_type": "code",
   "execution_count": 9,
   "id": "7d050523",
   "metadata": {},
   "outputs": [
    {
     "name": "stdout",
     "output_type": "stream",
     "text": [
      "<class 'int'>\n",
      "<class 'str'>\n",
      "<class 'str'>\n"
     ]
    }
   ],
   "source": [
    "type(x)\n",
    "print(type(x))\n",
    "type(y)\n",
    "print(type(y))\n",
    "type(z)\n",
    "print(type(z))"
   ]
  },
  {
   "attachments": {},
   "cell_type": "markdown",
   "id": "535b1b18",
   "metadata": {},
   "source": [
    "## **Rules to Assign a Variable**\n",
    "***1. The variable should contain lettes, numbers or underscore..***\n",
    "\n",
    "***2. Do not start with numbers.***\n",
    "\n",
    "***3. Spaces are not allowed.***\n",
    "\n",
    "***4. Do not use keywords used in function like (break, mean ,media, test etc..)***\n",
    "\n",
    "***5. Short and discriptive***\n",
    "\n",
    "***6. case senstivity (lower case and upercase letter shoul be used)***\n"
   ]
  },
  {
   "cell_type": "code",
   "execution_count": 5,
   "id": "1e6a4bcf",
   "metadata": {},
   "outputs": [
    {
     "name": "stdout",
     "output_type": "stream",
     "text": [
      "mangoes\n",
      "<class 'str'>\n"
     ]
    }
   ],
   "source": [
    "fruit=\"mangoes\"\n",
    "print(fruit)\n",
    "print(type(fruit))"
   ]
  },
  {
   "attachments": {},
   "cell_type": "markdown",
   "id": "17712f24",
   "metadata": {},
   "source": [
    "## **05- Input Variables**\n",
    "### **Simple Input Function**"
   ]
  },
  {
   "cell_type": "code",
   "execution_count": 11,
   "id": "0e260540",
   "metadata": {},
   "outputs": [
    {
     "name": "stdout",
     "output_type": "stream",
     "text": [
      "what is your favourite fruit?  mango\n",
      "mango\n"
     ]
    }
   ],
   "source": [
    "fruit_basket=input(\"what is your favourite fruit?  \")\n",
    "print(fruit_basket)"
   ]
  },
  {
   "attachments": {},
   "cell_type": "markdown",
   "id": "9304a938",
   "metadata": {},
   "source": [
    "### **Input Function of 2nd Stage**"
   ]
  },
  {
   "cell_type": "code",
   "execution_count": 9,
   "id": "ebae2ec2",
   "metadata": {},
   "outputs": [
    {
     "name": "stdout",
     "output_type": "stream",
     "text": [
      "Hello! Ahsan\n"
     ]
    }
   ],
   "source": [
    "name=input(\"what is your name? \")\n",
    "greeting=\"Hello!\"\n",
    "print(greeting,name)"
   ]
  },
  {
   "attachments": {},
   "cell_type": "markdown",
   "id": "90a42331",
   "metadata": {},
   "source": [
    "### **Input Function of 3rd Stage**"
   ]
  },
  {
   "cell_type": "code",
   "execution_count": 8,
   "id": "5a05c05b",
   "metadata": {},
   "outputs": [
    {
     "name": "stdout",
     "output_type": "stream",
     "text": [
      "<class 'str'>\n",
      "<class 'int'>\n",
      "Hello! ahsan You are still young!\n"
     ]
    }
   ],
   "source": [
    "name=input(\"what is your name? \")\n",
    "print(type(name))\n",
    "age=input(\"what is your age? \")\n",
    "age=int(age)      #In this line we are changing the data type of variable \n",
    "print(type(age))\n",
    "greeting=\"Hello!\"\n",
    "print (greeting, name, \"You are still young!\")"
   ]
  },
  {
   "attachments": {},
   "cell_type": "markdown",
   "id": "c7bc07b7",
   "metadata": {},
   "source": [
    "## **06- Conditional Logics**\n",
    "**Logical Operators are \"TRUE/FALSE\", \"YES/NO\" or \"0/1\"**"
   ]
  },
  {
   "attachments": {},
   "cell_type": "markdown",
   "id": "b0d954a4",
   "metadata": {},
   "source": [
    "***1. equal to                        ==***\n",
    "\n",
    "***2. not equal to                    !=***\n",
    "\n",
    "***3. less than                       <***\n",
    "\n",
    "***4. greater than                    >***\n",
    "\n",
    "***5. less than and equal to          <=***\n",
    "\n",
    "***6. greater than equal to           >=***"
   ]
  },
  {
   "attachments": {},
   "cell_type": "markdown",
   "id": "c629c01e",
   "metadata": {},
   "source": [
    "## **is 4 equal to 4?**"
   ]
  },
  {
   "cell_type": "code",
   "execution_count": 10,
   "id": "45440b19",
   "metadata": {},
   "outputs": [
    {
     "name": "stdout",
     "output_type": "stream",
     "text": [
      "Is 4 equal to 4?  True\n",
      "Is 4 not equal to 9?  True\n",
      "Is 4 greater than 3?  True\n",
      "Is 3 less than 6?  True\n",
      "Is 3 less than or equal to 5?  True\n",
      "Is 5 greater than or equal to 4?  True\n"
     ]
    }
   ],
   "source": [
    "print(\"Is 4 equal to 4? \", 4 == 4)\n",
    "print(\"Is 4 not equal to 9? \", 4 != 9)\n",
    "print(\"Is 4 greater than 3? \", 4 > 3)\n",
    "print(\"Is 3 less than 6? \", 3 < 6)\n",
    "print(\"Is 3 less than or equal to 5? \", 3 <= 5)\n",
    "print(\"Is 5 greater than or equal to 4? \", 5 >= 4)"
   ]
  },
  {
   "attachments": {},
   "cell_type": "markdown",
   "id": "6f929541",
   "metadata": {},
   "source": [
    "## **Application of Logical Operators**"
   ]
  },
  {
   "cell_type": "code",
   "execution_count": 15,
   "id": "af0eef6e",
   "metadata": {},
   "outputs": [
    {
     "name": "stdout",
     "output_type": "stream",
     "text": [
      "False\n"
     ]
    }
   ],
   "source": [
    "ali_age=4\n",
    "age_at_school=5\n",
    "print(ali_age==age_at_school)"
   ]
  },
  {
   "attachments": {},
   "cell_type": "markdown",
   "id": "b08844bf",
   "metadata": {},
   "source": [
    "### **Input Function and Logical Operator**"
   ]
  },
  {
   "cell_type": "code",
   "execution_count": 16,
   "id": "7474d914",
   "metadata": {},
   "outputs": [
    {
     "name": "stdout",
     "output_type": "stream",
     "text": [
      "How old is student? 4\n",
      "<class 'int'>\n",
      "False\n"
     ]
    }
   ],
   "source": [
    "age_at_school=5\n",
    "student_age=input(\"How old is student? \")   #INPUT FUNCTION\n",
    "student_age=int(student_age)                #CONVERTING string INTO int DATA TYPE\n",
    "print (type(student_age))\n",
    "print(student_age>=age_at_school)           #LOGICAL OPERTAOR"
   ]
  },
  {
   "attachments": {},
   "cell_type": "markdown",
   "id": "9eda16d4",
   "metadata": {},
   "source": [
    "## **07- if,else & elif**"
   ]
  },
  {
   "cell_type": "code",
   "execution_count": 20,
   "id": "aeba8552",
   "metadata": {},
   "outputs": [
    {
     "name": "stdout",
     "output_type": "stream",
     "text": [
      "How old is student? 5\n",
      "Congrats sudent can join tha school.\n"
     ]
    }
   ],
   "source": [
    "student_age=input(\"How old is student? \")\n",
    "student_age=int(student_age)\n",
    "required_age_at_school=5\n",
    "if student_age==required_age_at_school:\n",
    "    print(\"Congrats sudent can join tha school.\")\n",
    "elif student_age > required_age_at_school:\n",
    "    print(\"student should join Higher secondary school.\")\n",
    "elif student_age <= 2:\n",
    "    print(\"you shoul take care of student he/she is a still baby\")\n",
    "else:\n",
    "    print(\"student can't join the school.\")"
   ]
  },
  {
   "attachments": {},
   "cell_type": "markdown",
   "id": "211ac2c3",
   "metadata": {},
   "source": [
    "## **8- Loops**\n",
    "###  **While Loop**"
   ]
  },
  {
   "cell_type": "code",
   "execution_count": 27,
   "id": "ae54d3c3",
   "metadata": {},
   "outputs": [
    {
     "name": "stdout",
     "output_type": "stream",
     "text": [
      "0\n",
      "1\n",
      "2\n",
      "3\n",
      "4\n",
      "5\n",
      "6\n",
      "7\n",
      "8\n",
      "9\n",
      "10\n"
     ]
    }
   ],
   "source": [
    "x=0\n",
    "while (x<=10):\n",
    "    print(x)\n",
    "    x=x+1"
   ]
  },
  {
   "attachments": {},
   "cell_type": "markdown",
   "id": "7d305264",
   "metadata": {},
   "source": [
    "### **For Loop**"
   ]
  },
  {
   "cell_type": "code",
   "execution_count": 28,
   "id": "00f720dc",
   "metadata": {},
   "outputs": [
    {
     "name": "stdout",
     "output_type": "stream",
     "text": [
      "0\n",
      "1\n",
      "2\n",
      "3\n",
      "4\n",
      "5\n",
      "6\n",
      "7\n",
      "8\n",
      "9\n"
     ]
    }
   ],
   "source": [
    "for x in range(0,10):\n",
    "    print(x)"
   ]
  },
  {
   "attachments": {},
   "cell_type": "markdown",
   "id": "643aea69",
   "metadata": {},
   "source": [
    "### **Array**"
   ]
  },
  {
   "cell_type": "code",
   "execution_count": 18,
   "id": "9146f76d",
   "metadata": {},
   "outputs": [
    {
     "data": {
      "text/plain": [
       "['mon', 'tue', 'wed', 'thu', 'fri', 'sat', 'sun']"
      ]
     },
     "execution_count": 18,
     "metadata": {},
     "output_type": "execute_result"
    }
   ],
   "source": [
    "days=[\"mon\",\"tue\",\"wed\",\"thu\",\"fri\",\"sat\",\"sun\"]\n",
    "days"
   ]
  },
  {
   "cell_type": "code",
   "execution_count": 17,
   "id": "f2807538",
   "metadata": {},
   "outputs": [
    {
     "name": "stdout",
     "output_type": "stream",
     "text": [
      "mon\n",
      "tue\n",
      "wed\n",
      "thu\n"
     ]
    }
   ],
   "source": [
    "days=[\"mon\",\"tue\",\"wed\",\"thu\",\"fri\",\"sat\",\"sun\"]\n",
    "for d in days:\n",
    "    if (d==\"fri\"):\n",
    "        break         #loop stops\n",
    "    print(d)"
   ]
  },
  {
   "cell_type": "code",
   "execution_count": 16,
   "id": "839a6c25",
   "metadata": {},
   "outputs": [
    {
     "name": "stdout",
     "output_type": "stream",
     "text": [
      "mon\n",
      "tue\n",
      "wed\n",
      "thu\n",
      "sat\n",
      "sun\n"
     ]
    }
   ],
   "source": [
    "days=[\"mon\",\"tue\",\"wed\",\"thu\",\"fri\",\"sat\",\"sun\"]\n",
    "for d in days:\n",
    "            #loop stops\n",
    "    if (d==\"fri\"):\n",
    "        continue        #skips d\n",
    "    print(d)"
   ]
  },
  {
   "attachments": {},
   "cell_type": "markdown",
   "id": "9e410d27",
   "metadata": {},
   "source": [
    "----"
   ]
  }
 ],
 "metadata": {
  "kernelspec": {
   "display_name": "Python 3 (ipykernel)",
   "language": "python",
   "name": "python3"
  },
  "language_info": {
   "codemirror_mode": {
    "name": "ipython",
    "version": 3
   },
   "file_extension": ".py",
   "mimetype": "text/x-python",
   "name": "python",
   "nbconvert_exporter": "python",
   "pygments_lexer": "ipython3",
   "version": "3.10.4"
  }
 },
 "nbformat": 4,
 "nbformat_minor": 5
}
