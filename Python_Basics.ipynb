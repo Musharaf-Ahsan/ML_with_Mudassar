{
 "cells": [
  {
   "attachments": {},
   "cell_type": "markdown",
   "id": "ff1cfcf2",
   "metadata": {},
   "source": [
    "<center><font color=\"blue\">\n",
    "\n",
    "# **Machine Learning with Rana Mudassar Hayat**\n",
    "# **Assignment No: 1**\n",
    "# **Name: Musharaf Ahsan**\n",
    "# **Basics of Python**\n",
    "\n",
    "</font></center>\n",
    "------"
   ]
  },
  {
   "attachments": {},
   "cell_type": "markdown",
   "id": "6fb2cee2",
   "metadata": {},
   "source": [
    "## **01-  My 1st-Program**"
   ]
  },
  {
   "cell_type": "code",
   "execution_count": 1,
   "id": "f853edec",
   "metadata": {},
   "outputs": [
    {
     "name": "stdout",
     "output_type": "stream",
     "text": [
      "Learning ML with Rana Mudassar Sb\n",
      "I'm a student of Cholistan University\n"
     ]
    }
   ],
   "source": [
    "print(\"Learning ML with Rana Mudassar Sb\")\n",
    "print(\"I'm a student of Cholistan University\")\n"
   ]
  },
  {
   "attachments": {},
   "cell_type": "markdown",
   "id": "a39c03bf",
   "metadata": {},
   "source": [
    "## **02- Operators**"
   ]
  },
  {
   "cell_type": "code",
   "execution_count": 4,
   "id": "90974edb",
   "metadata": {},
   "outputs": [
    {
     "name": "stdout",
     "output_type": "stream",
     "text": [
      "The sum of the two numbers is:  178\n",
      "The result of subtraction is:  46\n",
      "The product of the numbers is:  624\n",
      "The result of division is:  45.0\n",
      "The result of integer division is:  16\n",
      "The result of exponentiation is:  8\n",
      "The remainder of the division is:  1\n",
      "The result of the equation is:  151\n"
     ]
    }
   ],
   "source": [
    "print(\"The sum of the two numbers is: \", 90 + 88)            # Addition\n",
    "print(\"The result of subtraction is: \", 89 - 43)            # Subtraction\n",
    "print(\"The product of the numbers is: \", 8 * 78)             # Multiplication\n",
    "print(\"The result of division is: \", 90 / 2)             # Division\n",
    "print(\"The result of integer division is: \", 64 // 4)            # Double Division\n",
    "print(\"The result of exponentiation is: \", 2 ** 3)             # Power\n",
    "print(\"The remainder of the division is: \", 9 % 2)              # Reminder\n",
    "print(\"The result of the equation is: \", 68 // 4 * 9 + 8 - 10)     # Equation"
   ]
  },
  {
   "attachments": {},
   "cell_type": "markdown",
   "id": "b1f96d80",
   "metadata": {},
   "source": [
    "**PEMDAS\n",
    "Parenthesis, Exponents, multiply, Divide, Addition & Substraction**\n",
    "\n",
    "**Left to right sequence for M D & A S**"
   ]
  },
  {
   "attachments": {},
   "cell_type": "markdown",
   "id": "d058dfd7",
   "metadata": {},
   "source": [
    "## **03- Strings**"
   ]
  },
  {
   "attachments": {},
   "cell_type": "markdown",
   "id": "b0a65e6b",
   "metadata": {},
   "source": [
    "*we can write string in single qoutes(' '), in double qoiutes(\" \") and In tripple qoutes('''  ''')*"
   ]
  },
  {
   "cell_type": "code",
   "execution_count": 5,
   "id": "b8440264",
   "metadata": {},
   "outputs": [
    {
     "name": "stdout",
     "output_type": "stream",
     "text": [
      "Single Qoutes\n",
      "Double Qoutes\n",
      "Triple Qoutes\n"
     ]
    }
   ],
   "source": [
    "print('Single Qoutes')\n",
    "print(\"Double Qoutes\")\n",
    "print('''Triple Qoutes''')"
   ]
  },
  {
   "attachments": {},
   "cell_type": "markdown",
   "id": "d2e6be39",
   "metadata": {},
   "source": [
    "*now what is the difference*"
   ]
  },
  {
   "cell_type": "code",
   "execution_count": 6,
   "id": "1f63896d",
   "metadata": {},
   "outputs": [
    {
     "name": "stdout",
     "output_type": "stream",
     "text": [
      "What's up\n"
     ]
    }
   ],
   "source": [
    "print(\"What's up\")"
   ]
  },
  {
   "attachments": {},
   "cell_type": "markdown",
   "id": "352610fe",
   "metadata": {},
   "source": [
    "*agr hm ise single qoutes me likhain gy to ye consider nhi kre ga*"
   ]
  },
  {
   "attachments": {},
   "cell_type": "markdown",
   "id": "ac020cf1",
   "metadata": {},
   "source": [
    "## **04- Comments**\n",
    "The shortcut keys to comments is **(Ctrl+/)** "
   ]
  },
  {
   "cell_type": "code",
   "execution_count": 1,
   "id": "ab51dab0",
   "metadata": {},
   "outputs": [
    {
     "name": "stdout",
     "output_type": "stream",
     "text": [
      "How are you?\n"
     ]
    }
   ],
   "source": [
    "print(\"How are you?\")    #press these to comment out (Ctrl+/) or use (#) before statement."
   ]
  },
  {
   "attachments": {},
   "cell_type": "markdown",
   "id": "127482a7",
   "metadata": {},
   "source": [
    "## **05- Variables**\n",
    "*variables: objects containing specific values.*"
   ]
  },
  {
   "cell_type": "code",
   "execution_count": 2,
   "id": "5c98cbea",
   "metadata": {},
   "outputs": [
    {
     "name": "stdout",
     "output_type": "stream",
     "text": [
      "10\n",
      "I'm Pakistani!\n",
      "40\n",
      "50\n",
      "?\n"
     ]
    }
   ],
   "source": [
    "x=10    #Numeric or Integer Variable\n",
    "print(x)\n",
    "\n",
    "y=\"I'm Pakistani!\"    #string variable\n",
    "print(y)\n",
    "x=40   #Here the valuae of x is updating by 40.It works \n",
    "       #same for 'y'..Only happen in Python not in C/C++\n",
    "print(x)\n",
    "x=x+10      #Another way to update value of x....\n",
    "print(x)\n",
    "z='?'\n",
    "print(z)"
   ]
  },
  {
   "attachments": {},
   "cell_type": "markdown",
   "id": "47389ba1",
   "metadata": {},
   "source": [
    "##### **Types/Class of Variables.**\n",
    "##### **A Function to Check Types of Variables.**\n"
   ]
  },
  {
   "cell_type": "code",
   "execution_count": 9,
   "id": "7d050523",
   "metadata": {},
   "outputs": [
    {
     "name": "stdout",
     "output_type": "stream",
     "text": [
      "<class 'int'>\n",
      "<class 'str'>\n",
      "<class 'str'>\n"
     ]
    }
   ],
   "source": [
    "type(x)\n",
    "print(type(x))\n",
    "type(y)\n",
    "print(type(y))\n",
    "type(z)\n",
    "print(type(z))"
   ]
  },
  {
   "attachments": {},
   "cell_type": "markdown",
   "id": "535b1b18",
   "metadata": {},
   "source": [
    "## **Rules to Assign a Variable**\n",
    "***1. The variable should contain lettes, numbers or underscore..***\n",
    "\n",
    "***2. Do not start with numbers.***\n",
    "\n",
    "***3. Spaces are not allowed.***\n",
    "\n",
    "***4. Do not use keywords used in function like (break, mean ,media, test etc..)***\n",
    "\n",
    "***5. Short and discriptive***\n",
    "\n",
    "***6. case senstivity (lower case and upercase letter shoul be used)***\n"
   ]
  },
  {
   "cell_type": "code",
   "execution_count": 5,
   "id": "1e6a4bcf",
   "metadata": {},
   "outputs": [
    {
     "name": "stdout",
     "output_type": "stream",
     "text": [
      "mangoes\n",
      "<class 'str'>\n"
     ]
    }
   ],
   "source": [
    "fruit=\"mangoes\"\n",
    "print(fruit)\n",
    "print(type(fruit))"
   ]
  },
  {
   "attachments": {},
   "cell_type": "markdown",
   "id": "17712f24",
   "metadata": {},
   "source": [
    "## **06- Input Variables**\n",
    "### **Simple Input Function**"
   ]
  },
  {
   "cell_type": "code",
   "execution_count": 11,
   "id": "0e260540",
   "metadata": {},
   "outputs": [
    {
     "name": "stdout",
     "output_type": "stream",
     "text": [
      "what is your favourite fruit?  mango\n",
      "mango\n"
     ]
    }
   ],
   "source": [
    "fruit_basket=input(\"what is your favourite fruit?  \")\n",
    "print(fruit_basket)"
   ]
  },
  {
   "attachments": {},
   "cell_type": "markdown",
   "id": "9304a938",
   "metadata": {},
   "source": [
    "### **Input Function of 2nd Stage**"
   ]
  },
  {
   "cell_type": "code",
   "execution_count": 9,
   "id": "ebae2ec2",
   "metadata": {},
   "outputs": [
    {
     "name": "stdout",
     "output_type": "stream",
     "text": [
      "Hello! Ahsan\n"
     ]
    }
   ],
   "source": [
    "name=input(\"what is your name? \")\n",
    "greeting=\"Hello!\"\n",
    "print(greeting,name)"
   ]
  },
  {
   "attachments": {},
   "cell_type": "markdown",
   "id": "90a42331",
   "metadata": {},
   "source": [
    "### **Input Function of 3rd Stage**"
   ]
  },
  {
   "cell_type": "code",
   "execution_count": 8,
   "id": "5a05c05b",
   "metadata": {},
   "outputs": [
    {
     "name": "stdout",
     "output_type": "stream",
     "text": [
      "<class 'str'>\n",
      "<class 'int'>\n",
      "Hello! ahsan You are still young!\n"
     ]
    }
   ],
   "source": [
    "name=input(\"what is your name? \")\n",
    "print(type(name))\n",
    "age=input(\"what is your age? \")\n",
    "age=int(age)      #In this line we are changing the data type of variable \n",
    "print(type(age))\n",
    "greeting=\"Hello!\"\n",
    "print (greeting, name, \"You are still young!\")"
   ]
  },
  {
   "attachments": {},
   "cell_type": "markdown",
   "id": "c7bc07b7",
   "metadata": {},
   "source": [
    "## **07- Conditional Logics**\n",
    "**Logical Operators are \"TRUE/FALSE\", \"YES/NO\" or \"0/1\"**"
   ]
  },
  {
   "attachments": {},
   "cell_type": "markdown",
   "id": "b0d954a4",
   "metadata": {},
   "source": [
    "***1. equal to                        ==***\n",
    "\n",
    "***2. not equal to                    !=***\n",
    "\n",
    "***3. less than                       <***\n",
    "\n",
    "***4. greater than                    >***\n",
    "\n",
    "***5. less than and equal to          <=***\n",
    "\n",
    "***6. greater than equal to           >=***"
   ]
  },
  {
   "attachments": {},
   "cell_type": "markdown",
   "id": "c629c01e",
   "metadata": {},
   "source": [
    "## **is 4 equal to 4?**"
   ]
  },
  {
   "cell_type": "code",
   "execution_count": 10,
   "id": "45440b19",
   "metadata": {},
   "outputs": [
    {
     "name": "stdout",
     "output_type": "stream",
     "text": [
      "Is 4 equal to 4?  True\n",
      "Is 4 not equal to 9?  True\n",
      "Is 4 greater than 3?  True\n",
      "Is 3 less than 6?  True\n",
      "Is 3 less than or equal to 5?  True\n",
      "Is 5 greater than or equal to 4?  True\n"
     ]
    }
   ],
   "source": [
    "print(\"Is 4 equal to 4? \", 4 == 4)\n",
    "print(\"Is 4 not equal to 9? \", 4 != 9)\n",
    "print(\"Is 4 greater than 3? \", 4 > 3)\n",
    "print(\"Is 3 less than 6? \", 3 < 6)\n",
    "print(\"Is 3 less than or equal to 5? \", 3 <= 5)\n",
    "print(\"Is 5 greater than or equal to 4? \", 5 >= 4)"
   ]
  },
  {
   "attachments": {},
   "cell_type": "markdown",
   "id": "6f929541",
   "metadata": {},
   "source": [
    "## **Application of Logical Operators**"
   ]
  },
  {
   "cell_type": "code",
   "execution_count": 15,
   "id": "af0eef6e",
   "metadata": {},
   "outputs": [
    {
     "name": "stdout",
     "output_type": "stream",
     "text": [
      "False\n"
     ]
    }
   ],
   "source": [
    "ali_age=4\n",
    "age_at_school=5\n",
    "print(ali_age==age_at_school)"
   ]
  },
  {
   "attachments": {},
   "cell_type": "markdown",
   "id": "b08844bf",
   "metadata": {},
   "source": [
    "### **Input Function and Logical Operator**"
   ]
  },
  {
   "cell_type": "code",
   "execution_count": 16,
   "id": "7474d914",
   "metadata": {},
   "outputs": [
    {
     "name": "stdout",
     "output_type": "stream",
     "text": [
      "How old is student? 4\n",
      "<class 'int'>\n",
      "False\n"
     ]
    }
   ],
   "source": [
    "age_at_school=5\n",
    "student_age=input(\"How old is student? \")   #INPUT FUNCTION\n",
    "student_age=int(student_age)                #CONVERTING string INTO int DATA TYPE\n",
    "print (type(student_age))\n",
    "print(student_age>=age_at_school)           #LOGICAL OPERTAOR"
   ]
  },
  {
   "attachments": {},
   "cell_type": "markdown",
   "id": "6ddb44ea",
   "metadata": {},
   "source": [
    "## **08- if,else & elif**"
   ]
  },
  {
   "attachments": {},
   "cell_type": "markdown",
   "id": "ea558726",
   "metadata": {},
   "source": [
    "- **Program to convert temperature from Celsius to Fahrenheit or vice versa**\n"
   ]
  },
  {
   "cell_type": "code",
   "execution_count": 4,
   "id": "c3deb5e0",
   "metadata": {},
   "outputs": [
    {
     "name": "stdout",
     "output_type": "stream",
     "text": [
      "Temperature in Fahrenheit: 374.0\n"
     ]
    }
   ],
   "source": [
    "choice = input(\"Enter '1' to convert from Celsius to Fahrenheit, or '2' to convert from Fahrenheit to Celsius: \")\n",
    "\n",
    "if choice == '1':\n",
    "    celsius = float(input(\"Enter temperature in Celsius: \"))\n",
    "    fahrenheit = (celsius * 9/5) + 32\n",
    "    print(\"Temperature in Fahrenheit:\", fahrenheit)\n",
    "elif choice == '2':\n",
    "    fahrenheit = float(input(\"Enter temperature in Fahrenheit: \"))\n",
    "    celsius = (fahrenheit - 32) * 5/9\n",
    "    print(\"Temperature in Celsius:\", celsius)\n",
    "else:\n",
    "    print(\"Invalid choice!\")\n"
   ]
  },
  {
   "attachments": {},
   "cell_type": "markdown",
   "id": "b7350af3",
   "metadata": {},
   "source": [
    "- **Program to calculate the grade based on the percentage**\n"
   ]
  },
  {
   "cell_type": "code",
   "execution_count": 6,
   "id": "1850bf42",
   "metadata": {},
   "outputs": [
    {
     "name": "stdout",
     "output_type": "stream",
     "text": [
      "Grade: C\n"
     ]
    }
   ],
   "source": [
    "percentage = float(input(\"Enter the percentage: \"))\n",
    "\n",
    "if percentage >= 90:\n",
    "    grade = 'A'\n",
    "elif percentage >= 80:\n",
    "    grade = 'B'\n",
    "elif percentage >= 70:\n",
    "    grade = 'C'\n",
    "elif percentage >= 60:\n",
    "    grade = 'D'\n",
    "else:\n",
    "    grade = 'F'\n",
    "\n",
    "print(\"Grade:\", grade)\n"
   ]
  },
  {
   "attachments": {},
   "cell_type": "markdown",
   "id": "51ecb4b4",
   "metadata": {},
   "source": [
    "- **Calculate Students Age to Join School**"
   ]
  },
  {
   "cell_type": "code",
   "execution_count": 2,
   "id": "2c0303c0",
   "metadata": {},
   "outputs": [
    {
     "name": "stdout",
     "output_type": "stream",
     "text": [
      "student should join Higher secondary school.\n"
     ]
    }
   ],
   "source": [
    "student_age=input(\"How old is student? \")\n",
    "student_age=int(student_age)\n",
    "required_age_at_school=5\n",
    "if student_age==required_age_at_school:\n",
    "    print(\"Congrats sudent can join tha school.\")\n",
    "elif student_age > required_age_at_school:\n",
    "    print(\"student should join Higher secondary school.\")\n",
    "elif student_age <= 2:\n",
    "    print(\"you shoul take care of student he/she is a still baby\")\n",
    "else:\n",
    "    print(\"student can't join the school.\")"
   ]
  },
  {
   "attachments": {},
   "cell_type": "markdown",
   "id": "dff60ba7",
   "metadata": {},
   "source": [
    "## **09- Functions**\n",
    "print(\"We are learning python\")\n",
    "\n",
    "print(\"We are learning python\")\n",
    "\n",
    "print(\"We are learning python\")\n",
    "\n",
    "print(\"We are learning python\")\n",
    "\n",
    "print(\"We are learning python\")"
   ]
  },
  {
   "attachments": {},
   "cell_type": "markdown",
   "id": "152c68b3",
   "metadata": {},
   "source": [
    "### **Defining a Function by diffrent ways**\n",
    "### **- 1**"
   ]
  },
  {
   "cell_type": "code",
   "execution_count": null,
   "id": "2acd6093",
   "metadata": {},
   "outputs": [],
   "source": [
    "def print_code():\n",
    "    print(\"We are learning python\")\n",
    "    print(\"We are learning python\")\n",
    "    print(\"We are learning python\")\n",
    "print_code()"
   ]
  },
  {
   "attachments": {},
   "cell_type": "markdown",
   "id": "9a882b3a",
   "metadata": {},
   "source": [
    "### **- 2**"
   ]
  },
  {
   "cell_type": "code",
   "execution_count": 13,
   "id": "28c7270c",
   "metadata": {},
   "outputs": [
    {
     "name": "stdout",
     "output_type": "stream",
     "text": [
      "We are learning ML\n",
      "We are learning ML\n",
      "We are learning ML\n"
     ]
    }
   ],
   "source": [
    "def print_code():\n",
    "    text=\"We are learning ML\"\n",
    "    print(text)\n",
    "    print(text)\n",
    "    print(text)\n",
    "print_code()"
   ]
  },
  {
   "attachments": {},
   "cell_type": "markdown",
   "id": "e9d3e7f2",
   "metadata": {},
   "source": [
    "### **- 3**"
   ]
  },
  {
   "cell_type": "code",
   "execution_count": 14,
   "id": "f909ae1e",
   "metadata": {},
   "outputs": [
    {
     "name": "stdout",
     "output_type": "stream",
     "text": [
      "We are learning ML\n",
      "We are learning ML\n",
      "We are learning ML\n"
     ]
    }
   ],
   "source": [
    "def print_code(text):\n",
    "   \n",
    "    print(text)\n",
    "    print(text)\n",
    "    print(text)\n",
    "print_code(\"We are learning ML\")"
   ]
  },
  {
   "attachments": {},
   "cell_type": "markdown",
   "id": "3e416abc",
   "metadata": {},
   "source": [
    "### **Defining a Function of Future**"
   ]
  },
  {
   "cell_type": "code",
   "execution_count": 15,
   "id": "f9949a0e",
   "metadata": {},
   "outputs": [
    {
     "name": "stdout",
     "output_type": "stream",
     "text": [
      "38\n"
     ]
    }
   ],
   "source": [
    "def future_age(age):\n",
    "    new_age=age+20\n",
    "    return new_age\n",
    "    print(new_age)\n",
    "futurre_prediction_age= future_age(18)\n",
    "print(futurre_prediction_age)"
   ]
  },
  {
   "attachments": {},
   "cell_type": "markdown",
   "id": "211ac2c3",
   "metadata": {},
   "source": [
    "## **10- Loops**\n",
    "###  **While Loop**"
   ]
  },
  {
   "cell_type": "code",
   "execution_count": 27,
   "id": "ae54d3c3",
   "metadata": {},
   "outputs": [
    {
     "name": "stdout",
     "output_type": "stream",
     "text": [
      "0\n",
      "1\n",
      "2\n",
      "3\n",
      "4\n",
      "5\n",
      "6\n",
      "7\n",
      "8\n",
      "9\n",
      "10\n"
     ]
    }
   ],
   "source": [
    "x=0\n",
    "while (x<=10):\n",
    "    print(x)\n",
    "    x=x+1"
   ]
  },
  {
   "attachments": {},
   "cell_type": "markdown",
   "id": "7d305264",
   "metadata": {},
   "source": [
    "### **For Loop**"
   ]
  },
  {
   "cell_type": "code",
   "execution_count": 28,
   "id": "00f720dc",
   "metadata": {},
   "outputs": [
    {
     "name": "stdout",
     "output_type": "stream",
     "text": [
      "0\n",
      "1\n",
      "2\n",
      "3\n",
      "4\n",
      "5\n",
      "6\n",
      "7\n",
      "8\n",
      "9\n"
     ]
    }
   ],
   "source": [
    "for x in range(0,10):\n",
    "    print(x)"
   ]
  },
  {
   "attachments": {},
   "cell_type": "markdown",
   "id": "643aea69",
   "metadata": {},
   "source": [
    "### **Array**"
   ]
  },
  {
   "cell_type": "code",
   "execution_count": 18,
   "id": "9146f76d",
   "metadata": {},
   "outputs": [
    {
     "data": {
      "text/plain": [
       "['mon', 'tue', 'wed', 'thu', 'fri', 'sat', 'sun']"
      ]
     },
     "execution_count": 18,
     "metadata": {},
     "output_type": "execute_result"
    }
   ],
   "source": [
    "days=[\"mon\",\"tue\",\"wed\",\"thu\",\"fri\",\"sat\",\"sun\"]\n",
    "days"
   ]
  },
  {
   "cell_type": "code",
   "execution_count": 17,
   "id": "f2807538",
   "metadata": {},
   "outputs": [
    {
     "name": "stdout",
     "output_type": "stream",
     "text": [
      "mon\n",
      "tue\n",
      "wed\n",
      "thu\n"
     ]
    }
   ],
   "source": [
    "days=[\"mon\",\"tue\",\"wed\",\"thu\",\"fri\",\"sat\",\"sun\"]\n",
    "for d in days:\n",
    "    if (d==\"fri\"):\n",
    "        break         #loop stops\n",
    "    print(d)"
   ]
  },
  {
   "cell_type": "code",
   "execution_count": 16,
   "id": "839a6c25",
   "metadata": {},
   "outputs": [
    {
     "name": "stdout",
     "output_type": "stream",
     "text": [
      "mon\n",
      "tue\n",
      "wed\n",
      "thu\n",
      "sat\n",
      "sun\n"
     ]
    }
   ],
   "source": [
    "days=[\"mon\",\"tue\",\"wed\",\"thu\",\"fri\",\"sat\",\"sun\"]\n",
    "for d in days:\n",
    "            #loop stops\n",
    "    if (d==\"fri\"):\n",
    "        continue        #skips d\n",
    "    print(d)"
   ]
  },
  {
   "attachments": {},
   "cell_type": "markdown",
   "id": "04c14399",
   "metadata": {},
   "source": [
    "<h1 style=\"text-align: center; color: yellow; -webkit-text-stroke: 1px black;\">End</h1>\n"
   ]
  }
 ],
 "metadata": {
  "kernelspec": {
   "display_name": "Python 3 (ipykernel)",
   "language": "python",
   "name": "python3"
  },
  "language_info": {
   "codemirror_mode": {
    "name": "ipython",
    "version": 3
   },
   "file_extension": ".py",
   "mimetype": "text/x-python",
   "name": "python",
   "nbconvert_exporter": "python",
   "pygments_lexer": "ipython3",
   "version": "3.10.4"
  }
 },
 "nbformat": 4,
 "nbformat_minor": 5
}
